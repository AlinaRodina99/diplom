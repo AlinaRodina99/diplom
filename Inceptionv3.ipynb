{
  "cells": [
    {
      "cell_type": "markdown",
      "metadata": {
        "id": "view-in-github",
        "colab_type": "text"
      },
      "source": [
        "<a href=\"https://colab.research.google.com/github/AlinaRodina99/diplom/blob/main/Inceptionv3.ipynb\" target=\"_parent\"><img src=\"https://colab.research.google.com/assets/colab-badge.svg\" alt=\"Open In Colab\"/></a>"
      ]
    },
    {
      "cell_type": "code",
      "execution_count": null,
      "metadata": {
        "id": "WF6qEmFHwbxV"
      },
      "outputs": [],
      "source": [
        "import torchvision"
      ]
    },
    {
      "cell_type": "code",
      "execution_count": null,
      "metadata": {
        "id": "VeMV0gaTw2KT"
      },
      "outputs": [],
      "source": [
        "from torchvision import datasets, models, transforms\n",
        "from torch.utils.data import Dataset\n",
        "import pandas as pd\n",
        "import os\n",
        "from skimage import io\n",
        "from PIL import Image, ImageFile\n",
        "import numpy as np\n",
        "import torch"
      ]
    },
    {
      "cell_type": "code",
      "execution_count": null,
      "metadata": {
        "colab": {
          "base_uri": "https://localhost:8080/"
        },
        "id": "Sth9WZnO0QQM",
        "outputId": "4ae2fcaa-4744-42ba-9d93-e1c4db1a0765"
      },
      "outputs": [
        {
          "output_type": "execute_result",
          "data": {
            "text/plain": [
              "<torch._C.Generator at 0x7fc13b99f170>"
            ]
          },
          "metadata": {},
          "execution_count": 3
        }
      ],
      "source": [
        "torch.manual_seed(17)"
      ]
    },
    {
      "cell_type": "code",
      "execution_count": null,
      "metadata": {
        "id": "0hDP83-76X_n"
      },
      "outputs": [],
      "source": [
        "class PaintingsAndPainters(Dataset):\n",
        "  def __init__(self, csv_file, root_dir, transform):\n",
        "    self.annotations = pd.read_csv(csv_file, header=None)\n",
        "    self.root_dir = root_dir\n",
        "    self.transform = transform\n",
        "\n",
        "  def __len__(self):\n",
        "    return len(self.annotations)\n",
        "\n",
        "  def __getitem__(self, index):\n",
        "    y_label = torch.tensor(self.annotations.iloc[index, 1])\n",
        "    img_path = self.root_dir + self.annotations.iloc[index, 0]\n",
        "    image = Image.open(img_path).convert(\"RGB\")\n",
        "    #transform = transforms.Grayscale()\n",
        "    #image = transform(image)\n",
        "    if self.transform:\n",
        "      image = self.transform(image)\n",
        "    return (image, y_label)\n"
      ]
    },
    {
      "cell_type": "code",
      "execution_count": null,
      "metadata": {
        "id": "BTDn_6aQw4_h"
      },
      "outputs": [],
      "source": [
        "preprocess = transforms.Compose([\n",
        "    transforms.Resize((299, 299)),\n",
        "    transforms.ToTensor(),\n",
        "    transforms.Normalize(mean=[0.485, 0.456, 0.406], std=[0.229, 0.224, 0.225]),\n",
        "])"
      ]
    },
    {
      "cell_type": "code",
      "execution_count": null,
      "metadata": {
        "colab": {
          "base_uri": "https://localhost:8080/"
        },
        "id": "3qYajPD3qftS",
        "outputId": "975e25e5-05b5-40bd-f92f-c2066dfe9b37"
      },
      "outputs": [
        {
          "output_type": "stream",
          "name": "stdout",
          "text": [
            "Mounted at /content/drive\n"
          ]
        }
      ],
      "source": [
        "from google.colab import drive\n",
        "drive.mount('/content/drive')"
      ]
    },
    {
      "cell_type": "code",
      "execution_count": null,
      "metadata": {
        "id": "_YmAYgb9xUz1"
      },
      "outputs": [],
      "source": [
        "dataset = PaintingsAndPainters(csv_file= 'data_and_labels_init.csv', root_dir = '/content/drive/MyDrive/images_init/', transform = preprocess)"
      ]
    },
    {
      "cell_type": "code",
      "execution_count": null,
      "metadata": {
        "colab": {
          "base_uri": "https://localhost:8080/"
        },
        "id": "R8LTGRDYE4mB",
        "outputId": "20f9688c-1adb-46d8-baf7-825d863ebede"
      },
      "outputs": [
        {
          "output_type": "execute_result",
          "data": {
            "text/plain": [
              "5000"
            ]
          },
          "metadata": {},
          "execution_count": 8
        }
      ],
      "source": [
        "m = len(dataset)\n",
        "m"
      ]
    },
    {
      "cell_type": "code",
      "execution_count": null,
      "metadata": {
        "id": "KofOtf70QKI7"
      },
      "outputs": [],
      "source": [
        "from torch.utils.data import DataLoader,random_split\n",
        "import torch"
      ]
    },
    {
      "cell_type": "code",
      "execution_count": null,
      "metadata": {
        "id": "35_syvfHx-Vh"
      },
      "outputs": [],
      "source": [
        "generator_ = torch.Generator().manual_seed(17)\n",
        "train_data, val_data = random_split(dataset, [int(m-m*0.1), int(m*0.1)], generator = generator_)"
      ]
    },
    {
      "cell_type": "markdown",
      "metadata": {
        "id": "JgZ8WzHqHRmb"
      },
      "source": []
    },
    {
      "cell_type": "code",
      "execution_count": null,
      "metadata": {
        "id": "HB0qFYYzQGX3"
      },
      "outputs": [],
      "source": [
        "batch_size=20\n",
        "\n",
        "train_loader = torch.utils.data.DataLoader(train_data, batch_size=batch_size, shuffle = True, num_workers = 1)\n",
        "valid_loader = torch.utils.data.DataLoader(val_data, batch_size=batch_size, shuffle = False, num_workers = 1)"
      ]
    },
    {
      "cell_type": "code",
      "execution_count": null,
      "metadata": {
        "id": "2-ptGjIzWZQy"
      },
      "outputs": [],
      "source": [
        "ImageFile.LOAD_TRUNCATED_IMAGES = True\n"
      ]
    },
    {
      "cell_type": "code",
      "execution_count": null,
      "metadata": {
        "id": "hduRrkOntLUD"
      },
      "outputs": [],
      "source": [
        "device = torch.device(\"cuda\") if torch.cuda.is_available() else torch.device(\"cpu\")"
      ]
    },
    {
      "cell_type": "code",
      "execution_count": null,
      "metadata": {
        "id": "dhKDfAeHSgvQ"
      },
      "outputs": [],
      "source": [
        "from torch import nn"
      ]
    },
    {
      "cell_type": "code",
      "execution_count": null,
      "metadata": {
        "colab": {
          "base_uri": "https://localhost:8080/"
        },
        "id": "CY3JFBmjrArx",
        "outputId": "c345c697-b64e-4ae3-cfd1-5e5ca006c9c6"
      },
      "outputs": [
        {
          "output_type": "stream",
          "name": "stderr",
          "text": [
            "/usr/local/lib/python3.10/dist-packages/torchvision/models/_utils.py:208: UserWarning: The parameter 'pretrained' is deprecated since 0.13 and may be removed in the future, please use 'weights' instead.\n",
            "  warnings.warn(\n",
            "/usr/local/lib/python3.10/dist-packages/torchvision/models/_utils.py:223: UserWarning: Arguments other than a weight enum or `None` for 'weights' are deprecated since 0.13 and may be removed in the future. The current behavior is equivalent to passing `weights=Inception_V3_Weights.IMAGENET1K_V1`. You can also use `weights=Inception_V3_Weights.DEFAULT` to get the most up-to-date weights.\n",
            "  warnings.warn(msg)\n",
            "Downloading: \"https://download.pytorch.org/models/inception_v3_google-0cc3c7bd.pth\" to /root/.cache/torch/hub/checkpoints/inception_v3_google-0cc3c7bd.pth\n",
            "100%|██████████| 104M/104M [00:00<00:00, 293MB/s] \n"
          ]
        }
      ],
      "source": [
        "model = models.inception_v3(pretrained=True).to(device)\n",
        "    \n",
        "for param in model.parameters():\n",
        "    param.requires_grad = False\n",
        "    \n",
        "model.fc = nn.Linear(2048, 72).to(device)"
      ]
    },
    {
      "cell_type": "code",
      "execution_count": null,
      "metadata": {
        "id": "_Un2ta-zETdm"
      },
      "outputs": [],
      "source": [
        "lr = 0.001"
      ]
    },
    {
      "cell_type": "code",
      "execution_count": null,
      "metadata": {
        "id": "k_SGvlVlrXjh"
      },
      "outputs": [],
      "source": [
        "loss_fn = torch.nn.CrossEntropyLoss()\n",
        "optim = torch.optim.SGD(model.fc.parameters(), lr=lr, momentum = 0.9)"
      ]
    },
    {
      "cell_type": "code",
      "execution_count": null,
      "metadata": {
        "id": "Tv62p6Tuu01I"
      },
      "outputs": [],
      "source": [
        "def train_epoch(autoencoder, device, dataloader, loss_fn, optimizer, epoch):\n",
        "    # Set train mode for both the encoder and the decoder\n",
        "    train_loss = []\n",
        "    model.train()\n",
        "    avg_train_loss = 0\n",
        "    # Iterate the dataloader (we do not need the label values, this is unsupervised learning)\n",
        "    for image_batch, labels in dataloader: # with \"_\" we just ignore the labels (the second element of the dataloader tuple)\n",
        "        # Move tensor to the proper device\n",
        "        image_batch = image_batch.to(device)\n",
        "        labels = labels.to(device)\n",
        "        # Evaluate loss\n",
        "        outputs, lala = model(image_batch)\n",
        "        loss = loss_fn(outputs, labels)\n",
        "        # Backward pass\n",
        "        optimizer.zero_grad()\n",
        "        print('aa')\n",
        "        loss.backward()\n",
        "        print('bb')\n",
        "        optimizer.step()\n",
        "        # Print batch loss\n",
        "        print('\\t partial train loss (single batch): %f' % (loss.data))\n",
        "        avg_train_loss += loss / len(dataloader)\n",
        "    global lr\n",
        "    lr *= 0.8\n",
        "    optimizer = torch.optim.Adam(autoencoder.parameters(), lr=lr, weight_decay=1e-05)\n",
        "    return avg_train_loss"
      ]
    },
    {
      "cell_type": "code",
      "execution_count": null,
      "metadata": {
        "id": "vjI-27CQvYqQ"
      },
      "outputs": [],
      "source": [
        "val_losses = []\n",
        "val_accs = []\n",
        "def test_epoch(autoencoder, device, dataloader, loss_fn):\n",
        "    # Set evaluation mode for encoder and decoder\n",
        "    model.eval()\n",
        "    avg_val_loss = 0\n",
        "    predicted_labels = []\n",
        "    real_labels = []\n",
        "    with torch.no_grad(): # No need to track the gradients\n",
        "        # Define the lists to store the outputs for each batch\n",
        "        conc_out = []\n",
        "        conc_label = []\n",
        "        for image_batch, labels in dataloader:\n",
        "            # Move tensor to the proper device\n",
        "            #if torch.cuda.is_available():\n",
        "               #print('yes')\n",
        "            image_batch = image_batch.to(device)\n",
        "            labels = labels.to(device)\n",
        "            # Decode data\n",
        "            outputs, lala = model(image_batch)\n",
        "            # Append the network output and the original image to the lists\n",
        "            loss = loss_fn(outputs, labels)\n",
        "            avg_val_loss += loss / len(dataloader)\n",
        "            predicted_labels.append(outputs.argmax(dim = 1))\n",
        "            real_labels.append(labels)\n",
        "    predicted_labels = torch.cat(predicted_labels)\n",
        "    real_labels = torch.cat(real_labels)\n",
        "    val_acc = (predicted_labels == real_labels).type(torch.FloatTensor).mean()\n",
        "    val_losses.append(avg_val_loss)\n",
        "    val_accs.append(val_acc)\n",
        "    return avg_val_loss, val_acc"
      ]
    },
    {
      "cell_type": "code",
      "execution_count": null,
      "metadata": {
        "colab": {
          "base_uri": "https://localhost:8080/"
        },
        "id": "vP6Y9ywMtAlR",
        "outputId": "3be710df-3aea-4eec-9fe1-59f2f50b451c"
      },
      "outputs": [
        {
          "data": {
            "text/plain": [
              "2.1872507247830267e-14"
            ]
          },
          "execution_count": 20,
          "metadata": {},
          "output_type": "execute_result"
        }
      ],
      "source": [
        "checkpoint = torch.load(\"/content/drive/MyDrive/model.pt\")\n",
        "model.load_state_dict(checkpoint['model_state_dict'])\n",
        "optim.load_state_dict(checkpoint['optimizer_state_dict'])\n",
        "lr = checkpoint['lr']\n",
        "lr"
      ]
    },
    {
      "cell_type": "code",
      "execution_count": null,
      "metadata": {
        "colab": {
          "base_uri": "https://localhost:8080/",
          "height": 1000
        },
        "id": "inu4g_7CvlxG",
        "outputId": "5b517a96-6b2e-45df-d14e-5943fe69b700"
      },
      "outputs": [
        {
          "output_type": "stream",
          "name": "stdout",
          "text": [
            "aa\n",
            "bb\n",
            "\t partial train loss (single batch): 4.407687\n",
            "aa\n",
            "bb\n",
            "\t partial train loss (single batch): 4.367241\n",
            "aa\n",
            "bb\n",
            "\t partial train loss (single batch): 4.296681\n",
            "aa\n",
            "bb\n",
            "\t partial train loss (single batch): 4.412703\n",
            "aa\n",
            "bb\n",
            "\t partial train loss (single batch): 4.304887\n",
            "aa\n",
            "bb\n",
            "\t partial train loss (single batch): 4.351839\n",
            "aa\n",
            "bb\n",
            "\t partial train loss (single batch): 4.283214\n",
            "aa\n",
            "bb\n",
            "\t partial train loss (single batch): 4.232338\n",
            "aa\n",
            "bb\n",
            "\t partial train loss (single batch): 4.195522\n",
            "aa\n",
            "bb\n",
            "\t partial train loss (single batch): 4.328717\n",
            "aa\n",
            "bb\n",
            "\t partial train loss (single batch): 4.264086\n",
            "aa\n",
            "bb\n",
            "\t partial train loss (single batch): 4.381166\n",
            "aa\n",
            "bb\n",
            "\t partial train loss (single batch): 4.179344\n",
            "aa\n",
            "bb\n",
            "\t partial train loss (single batch): 4.172641\n",
            "aa\n",
            "bb\n",
            "\t partial train loss (single batch): 4.130239\n",
            "aa\n",
            "bb\n",
            "\t partial train loss (single batch): 4.033024\n",
            "aa\n",
            "bb\n",
            "\t partial train loss (single batch): 4.212395\n",
            "aa\n",
            "bb\n",
            "\t partial train loss (single batch): 4.038821\n",
            "aa\n",
            "bb\n",
            "\t partial train loss (single batch): 4.090642\n",
            "aa\n",
            "bb\n",
            "\t partial train loss (single batch): 3.961256\n",
            "aa\n",
            "bb\n",
            "\t partial train loss (single batch): 4.068686\n",
            "aa\n",
            "bb\n",
            "\t partial train loss (single batch): 3.962477\n",
            "aa\n",
            "bb\n",
            "\t partial train loss (single batch): 4.019862\n",
            "aa\n",
            "bb\n",
            "\t partial train loss (single batch): 4.045414\n",
            "aa\n",
            "bb\n",
            "\t partial train loss (single batch): 4.170997\n",
            "aa\n",
            "bb\n",
            "\t partial train loss (single batch): 3.948439\n",
            "aa\n",
            "bb\n",
            "\t partial train loss (single batch): 4.056008\n",
            "aa\n",
            "bb\n",
            "\t partial train loss (single batch): 3.933835\n",
            "aa\n",
            "bb\n",
            "\t partial train loss (single batch): 4.158046\n",
            "aa\n",
            "bb\n",
            "\t partial train loss (single batch): 4.117182\n",
            "aa\n",
            "bb\n",
            "\t partial train loss (single batch): 3.803922\n",
            "aa\n",
            "bb\n",
            "\t partial train loss (single batch): 4.240806\n",
            "aa\n",
            "bb\n",
            "\t partial train loss (single batch): 3.614037\n",
            "aa\n",
            "bb\n",
            "\t partial train loss (single batch): 4.090161\n",
            "aa\n",
            "bb\n",
            "\t partial train loss (single batch): 4.006248\n",
            "aa\n",
            "bb\n",
            "\t partial train loss (single batch): 4.032802\n",
            "aa\n",
            "bb\n",
            "\t partial train loss (single batch): 4.197144\n",
            "aa\n",
            "bb\n",
            "\t partial train loss (single batch): 4.028606\n",
            "aa\n",
            "bb\n",
            "\t partial train loss (single batch): 4.154938\n",
            "aa\n",
            "bb\n",
            "\t partial train loss (single batch): 4.031733\n",
            "aa\n",
            "bb\n",
            "\t partial train loss (single batch): 3.903733\n",
            "aa\n",
            "bb\n",
            "\t partial train loss (single batch): 4.106494\n",
            "aa\n",
            "bb\n",
            "\t partial train loss (single batch): 3.798220\n",
            "aa\n",
            "bb\n",
            "\t partial train loss (single batch): 4.022086\n",
            "aa\n",
            "bb\n",
            "\t partial train loss (single batch): 3.784197\n",
            "aa\n",
            "bb\n",
            "\t partial train loss (single batch): 3.895349\n",
            "aa\n",
            "bb\n",
            "\t partial train loss (single batch): 3.994033\n",
            "aa\n",
            "bb\n",
            "\t partial train loss (single batch): 3.837180\n",
            "aa\n",
            "bb\n",
            "\t partial train loss (single batch): 4.238770\n",
            "aa\n",
            "bb\n",
            "\t partial train loss (single batch): 3.532473\n",
            "aa\n",
            "bb\n",
            "\t partial train loss (single batch): 4.140849\n",
            "aa\n",
            "bb\n",
            "\t partial train loss (single batch): 3.644557\n",
            "aa\n",
            "bb\n",
            "\t partial train loss (single batch): 3.712798\n",
            "aa\n",
            "bb\n",
            "\t partial train loss (single batch): 3.757195\n",
            "aa\n",
            "bb\n",
            "\t partial train loss (single batch): 3.494052\n",
            "aa\n",
            "bb\n",
            "\t partial train loss (single batch): 3.767251\n",
            "aa\n",
            "bb\n",
            "\t partial train loss (single batch): 4.055237\n",
            "aa\n",
            "bb\n",
            "\t partial train loss (single batch): 3.419679\n",
            "aa\n",
            "bb\n",
            "\t partial train loss (single batch): 3.524823\n",
            "aa\n",
            "bb\n",
            "\t partial train loss (single batch): 3.821424\n",
            "aa\n",
            "bb\n",
            "\t partial train loss (single batch): 3.652560\n",
            "aa\n",
            "bb\n",
            "\t partial train loss (single batch): 3.529066\n",
            "aa\n",
            "bb\n",
            "\t partial train loss (single batch): 3.710252\n",
            "aa\n",
            "bb\n",
            "\t partial train loss (single batch): 4.096559\n",
            "aa\n",
            "bb\n",
            "\t partial train loss (single batch): 4.191483\n",
            "aa\n",
            "bb\n",
            "\t partial train loss (single batch): 4.032652\n",
            "aa\n",
            "bb\n",
            "\t partial train loss (single batch): 3.966220\n",
            "aa\n",
            "bb\n",
            "\t partial train loss (single batch): 3.600578\n",
            "aa\n",
            "bb\n",
            "\t partial train loss (single batch): 4.168042\n",
            "aa\n",
            "bb\n",
            "\t partial train loss (single batch): 3.366676\n",
            "aa\n",
            "bb\n",
            "\t partial train loss (single batch): 4.108508\n",
            "aa\n",
            "bb\n",
            "\t partial train loss (single batch): 4.115622\n",
            "aa\n",
            "bb\n",
            "\t partial train loss (single batch): 4.048862\n",
            "aa\n",
            "bb\n",
            "\t partial train loss (single batch): 3.964828\n",
            "aa\n",
            "bb\n",
            "\t partial train loss (single batch): 4.141147\n",
            "aa\n",
            "bb\n",
            "\t partial train loss (single batch): 3.927302\n",
            "aa\n",
            "bb\n",
            "\t partial train loss (single batch): 4.040973\n",
            "aa\n",
            "bb\n",
            "\t partial train loss (single batch): 3.604547\n",
            "aa\n",
            "bb\n",
            "\t partial train loss (single batch): 3.953825\n",
            "aa\n",
            "bb\n",
            "\t partial train loss (single batch): 3.312681\n",
            "aa\n",
            "bb\n",
            "\t partial train loss (single batch): 3.606281\n",
            "aa\n",
            "bb\n",
            "\t partial train loss (single batch): 3.551246\n",
            "aa\n",
            "bb\n",
            "\t partial train loss (single batch): 3.301982\n",
            "aa\n",
            "bb\n",
            "\t partial train loss (single batch): 3.584094\n",
            "aa\n",
            "bb\n",
            "\t partial train loss (single batch): 3.558428\n",
            "aa\n",
            "bb\n",
            "\t partial train loss (single batch): 4.069695\n",
            "aa\n",
            "bb\n",
            "\t partial train loss (single batch): 3.648199\n",
            "aa\n",
            "bb\n",
            "\t partial train loss (single batch): 3.954247\n",
            "aa\n",
            "bb\n",
            "\t partial train loss (single batch): 3.904917\n",
            "aa\n",
            "bb\n",
            "\t partial train loss (single batch): 3.943799\n",
            "aa\n",
            "bb\n",
            "\t partial train loss (single batch): 3.900722\n",
            "aa\n",
            "bb\n",
            "\t partial train loss (single batch): 3.678520\n",
            "aa\n",
            "bb\n",
            "\t partial train loss (single batch): 3.965244\n",
            "aa\n",
            "bb\n",
            "\t partial train loss (single batch): 3.988528\n",
            "aa\n",
            "bb\n",
            "\t partial train loss (single batch): 3.772450\n",
            "aa\n",
            "bb\n",
            "\t partial train loss (single batch): 3.905659\n",
            "aa\n",
            "bb\n",
            "\t partial train loss (single batch): 3.767310\n",
            "aa\n",
            "bb\n",
            "\t partial train loss (single batch): 4.278176\n",
            "aa\n",
            "bb\n",
            "\t partial train loss (single batch): 3.784714\n",
            "aa\n",
            "bb\n",
            "\t partial train loss (single batch): 4.063154\n",
            "aa\n",
            "bb\n",
            "\t partial train loss (single batch): 3.490762\n",
            "aa\n",
            "bb\n",
            "\t partial train loss (single batch): 3.761942\n",
            "aa\n",
            "bb\n",
            "\t partial train loss (single batch): 3.794500\n",
            "aa\n",
            "bb\n",
            "\t partial train loss (single batch): 3.835798\n",
            "aa\n",
            "bb\n",
            "\t partial train loss (single batch): 3.549344\n",
            "aa\n",
            "bb\n",
            "\t partial train loss (single batch): 3.961353\n",
            "aa\n",
            "bb\n",
            "\t partial train loss (single batch): 3.824694\n",
            "aa\n",
            "bb\n",
            "\t partial train loss (single batch): 3.921715\n",
            "aa\n",
            "bb\n",
            "\t partial train loss (single batch): 3.824689\n",
            "aa\n",
            "bb\n",
            "\t partial train loss (single batch): 3.919823\n",
            "aa\n",
            "bb\n",
            "\t partial train loss (single batch): 3.555560\n",
            "aa\n",
            "bb\n",
            "\t partial train loss (single batch): 3.668282\n",
            "aa\n",
            "bb\n",
            "\t partial train loss (single batch): 3.506721\n",
            "aa\n",
            "bb\n",
            "\t partial train loss (single batch): 3.823765\n",
            "aa\n",
            "bb\n",
            "\t partial train loss (single batch): 3.672034\n",
            "aa\n",
            "bb\n",
            "\t partial train loss (single batch): 3.377356\n",
            "aa\n",
            "bb\n",
            "\t partial train loss (single batch): 3.246632\n",
            "aa\n",
            "bb\n",
            "\t partial train loss (single batch): 2.985977\n",
            "aa\n",
            "bb\n",
            "\t partial train loss (single batch): 4.068271\n",
            "aa\n",
            "bb\n",
            "\t partial train loss (single batch): 3.881579\n",
            "aa\n",
            "bb\n",
            "\t partial train loss (single batch): 4.112446\n",
            "aa\n",
            "bb\n",
            "\t partial train loss (single batch): 3.739319\n",
            "aa\n",
            "bb\n",
            "\t partial train loss (single batch): 3.509832\n",
            "aa\n",
            "bb\n",
            "\t partial train loss (single batch): 3.606309\n",
            "aa\n",
            "bb\n",
            "\t partial train loss (single batch): 3.884277\n",
            "aa\n",
            "bb\n",
            "\t partial train loss (single batch): 3.703679\n",
            "aa\n",
            "bb\n",
            "\t partial train loss (single batch): 3.843889\n",
            "aa\n",
            "bb\n",
            "\t partial train loss (single batch): 3.967552\n",
            "aa\n",
            "bb\n",
            "\t partial train loss (single batch): 3.662822\n",
            "aa\n",
            "bb\n",
            "\t partial train loss (single batch): 3.473613\n",
            "aa\n",
            "bb\n",
            "\t partial train loss (single batch): 3.643407\n",
            "aa\n",
            "bb\n",
            "\t partial train loss (single batch): 4.037374\n",
            "aa\n",
            "bb\n",
            "\t partial train loss (single batch): 3.368526\n",
            "aa\n",
            "bb\n",
            "\t partial train loss (single batch): 4.071831\n",
            "aa\n",
            "bb\n",
            "\t partial train loss (single batch): 4.280423\n",
            "aa\n",
            "bb\n",
            "\t partial train loss (single batch): 3.445456\n",
            "aa\n",
            "bb\n",
            "\t partial train loss (single batch): 3.898098\n",
            "aa\n",
            "bb\n",
            "\t partial train loss (single batch): 4.080910\n",
            "aa\n",
            "bb\n",
            "\t partial train loss (single batch): 3.312900\n",
            "aa\n",
            "bb\n",
            "\t partial train loss (single batch): 3.413101\n",
            "aa\n",
            "bb\n",
            "\t partial train loss (single batch): 4.152247\n",
            "aa\n",
            "bb\n",
            "\t partial train loss (single batch): 3.597369\n",
            "aa\n",
            "bb\n",
            "\t partial train loss (single batch): 3.580779\n",
            "aa\n",
            "bb\n",
            "\t partial train loss (single batch): 3.750922\n",
            "aa\n",
            "bb\n",
            "\t partial train loss (single batch): 3.747871\n",
            "aa\n",
            "bb\n",
            "\t partial train loss (single batch): 3.917640\n",
            "aa\n",
            "bb\n",
            "\t partial train loss (single batch): 3.768408\n",
            "aa\n",
            "bb\n",
            "\t partial train loss (single batch): 3.565370\n",
            "aa\n",
            "bb\n",
            "\t partial train loss (single batch): 3.617651\n",
            "aa\n",
            "bb\n",
            "\t partial train loss (single batch): 4.126513\n",
            "aa\n",
            "bb\n",
            "\t partial train loss (single batch): 3.940254\n",
            "aa\n",
            "bb\n",
            "\t partial train loss (single batch): 3.635016\n",
            "aa\n",
            "bb\n",
            "\t partial train loss (single batch): 3.950898\n",
            "aa\n",
            "bb\n",
            "\t partial train loss (single batch): 3.731365\n",
            "aa\n",
            "bb\n",
            "\t partial train loss (single batch): 3.576060\n",
            "aa\n",
            "bb\n",
            "\t partial train loss (single batch): 3.720371\n",
            "aa\n",
            "bb\n",
            "\t partial train loss (single batch): 3.375307\n",
            "aa\n",
            "bb\n",
            "\t partial train loss (single batch): 3.496934\n",
            "aa\n",
            "bb\n",
            "\t partial train loss (single batch): 3.773353\n",
            "aa\n",
            "bb\n",
            "\t partial train loss (single batch): 3.528872\n",
            "aa\n",
            "bb\n",
            "\t partial train loss (single batch): 3.946723\n",
            "aa\n",
            "bb\n",
            "\t partial train loss (single batch): 4.062827\n",
            "aa\n",
            "bb\n",
            "\t partial train loss (single batch): 3.793806\n",
            "aa\n",
            "bb\n",
            "\t partial train loss (single batch): 3.599145\n",
            "aa\n",
            "bb\n",
            "\t partial train loss (single batch): 3.783041\n",
            "aa\n",
            "bb\n",
            "\t partial train loss (single batch): 3.733623\n",
            "aa\n",
            "bb\n",
            "\t partial train loss (single batch): 3.392543\n",
            "aa\n",
            "bb\n",
            "\t partial train loss (single batch): 3.499398\n",
            "aa\n",
            "bb\n",
            "\t partial train loss (single batch): 4.107594\n",
            "aa\n",
            "bb\n",
            "\t partial train loss (single batch): 3.830884\n",
            "aa\n",
            "bb\n",
            "\t partial train loss (single batch): 3.609268\n",
            "aa\n",
            "bb\n",
            "\t partial train loss (single batch): 3.685212\n",
            "aa\n",
            "bb\n",
            "\t partial train loss (single batch): 3.577950\n",
            "aa\n",
            "bb\n",
            "\t partial train loss (single batch): 3.638019\n",
            "aa\n",
            "bb\n",
            "\t partial train loss (single batch): 4.095452\n",
            "aa\n",
            "bb\n",
            "\t partial train loss (single batch): 3.447678\n",
            "aa\n",
            "bb\n",
            "\t partial train loss (single batch): 3.741452\n",
            "aa\n",
            "bb\n",
            "\t partial train loss (single batch): 3.530202\n",
            "aa\n",
            "bb\n",
            "\t partial train loss (single batch): 3.440589\n",
            "aa\n",
            "bb\n",
            "\t partial train loss (single batch): 3.562259\n",
            "aa\n",
            "bb\n",
            "\t partial train loss (single batch): 3.443031\n",
            "aa\n",
            "bb\n",
            "\t partial train loss (single batch): 3.342990\n",
            "aa\n",
            "bb\n",
            "\t partial train loss (single batch): 3.581786\n",
            "aa\n",
            "bb\n",
            "\t partial train loss (single batch): 3.568982\n",
            "aa\n",
            "bb\n",
            "\t partial train loss (single batch): 3.744573\n",
            "aa\n",
            "bb\n",
            "\t partial train loss (single batch): 3.452025\n",
            "aa\n",
            "bb\n",
            "\t partial train loss (single batch): 3.852751\n",
            "aa\n",
            "bb\n",
            "\t partial train loss (single batch): 3.260553\n",
            "aa\n",
            "bb\n",
            "\t partial train loss (single batch): 4.054261\n",
            "aa\n",
            "bb\n",
            "\t partial train loss (single batch): 3.573907\n",
            "aa\n",
            "bb\n",
            "\t partial train loss (single batch): 3.818075\n",
            "aa\n",
            "bb\n",
            "\t partial train loss (single batch): 3.653701\n",
            "aa\n",
            "bb\n",
            "\t partial train loss (single batch): 3.450129\n",
            "aa\n",
            "bb\n",
            "\t partial train loss (single batch): 3.937177\n",
            "aa\n",
            "bb\n",
            "\t partial train loss (single batch): 3.867170\n",
            "aa\n",
            "bb\n",
            "\t partial train loss (single batch): 3.529650\n",
            "aa\n",
            "bb\n",
            "\t partial train loss (single batch): 3.603516\n",
            "aa\n",
            "bb\n",
            "\t partial train loss (single batch): 4.213418\n",
            "aa\n",
            "bb\n",
            "\t partial train loss (single batch): 3.590427\n",
            "aa\n",
            "bb\n",
            "\t partial train loss (single batch): 3.528856\n",
            "aa\n",
            "bb\n",
            "\t partial train loss (single batch): 3.571064\n",
            "aa\n",
            "bb\n",
            "\t partial train loss (single batch): 3.545826\n",
            "aa\n",
            "bb\n",
            "\t partial train loss (single batch): 3.668721\n",
            "aa\n",
            "bb\n",
            "\t partial train loss (single batch): 3.482177\n",
            "aa\n",
            "bb\n",
            "\t partial train loss (single batch): 3.345887\n",
            "aa\n",
            "bb\n",
            "\t partial train loss (single batch): 3.437843\n",
            "aa\n",
            "bb\n",
            "\t partial train loss (single batch): 3.571446\n",
            "aa\n",
            "bb\n",
            "\t partial train loss (single batch): 4.007811\n",
            "aa\n",
            "bb\n",
            "\t partial train loss (single batch): 3.450547\n",
            "aa\n",
            "bb\n",
            "\t partial train loss (single batch): 3.608803\n",
            "aa\n",
            "bb\n",
            "\t partial train loss (single batch): 3.857383\n",
            "aa\n",
            "bb\n",
            "\t partial train loss (single batch): 3.569377\n",
            "aa\n",
            "bb\n",
            "\t partial train loss (single batch): 3.740678\n",
            "aa\n",
            "bb\n",
            "\t partial train loss (single batch): 4.041839\n",
            "aa\n",
            "bb\n",
            "\t partial train loss (single batch): 3.749812\n",
            "aa\n",
            "bb\n",
            "\t partial train loss (single batch): 3.435144\n",
            "aa\n",
            "bb\n",
            "\t partial train loss (single batch): 3.520470\n",
            "aa\n",
            "bb\n",
            "\t partial train loss (single batch): 3.005482\n",
            "aa\n",
            "bb\n",
            "\t partial train loss (single batch): 3.161906\n",
            "aa\n",
            "bb\n",
            "\t partial train loss (single batch): 3.613122\n",
            "aa\n",
            "bb\n",
            "\t partial train loss (single batch): 3.601583\n",
            "aa\n",
            "bb\n",
            "\t partial train loss (single batch): 3.676622\n",
            "aa\n",
            "bb\n",
            "\t partial train loss (single batch): 3.529393\n",
            "aa\n",
            "bb\n",
            "\t partial train loss (single batch): 3.953702\n",
            "aa\n",
            "bb\n",
            "\t partial train loss (single batch): 3.641146\n"
          ]
        },
        {
          "output_type": "error",
          "ename": "ValueError",
          "evalue": "ignored",
          "traceback": [
            "\u001b[0;31m---------------------------------------------------------------------------\u001b[0m",
            "\u001b[0;31mValueError\u001b[0m                                Traceback (most recent call last)",
            "\u001b[0;32m<ipython-input-23-f7527fe1a646>\u001b[0m in \u001b[0;36m<cell line: 3>\u001b[0;34m()\u001b[0m\n\u001b[1;32m      3\u001b[0m \u001b[0;32mfor\u001b[0m \u001b[0mepoch\u001b[0m \u001b[0;32min\u001b[0m \u001b[0mrange\u001b[0m\u001b[0;34m(\u001b[0m\u001b[0mnum_epochs\u001b[0m\u001b[0;34m)\u001b[0m\u001b[0;34m:\u001b[0m\u001b[0;34m\u001b[0m\u001b[0;34m\u001b[0m\u001b[0m\n\u001b[1;32m      4\u001b[0m    \u001b[0mtrain_loss\u001b[0m \u001b[0;34m=\u001b[0m\u001b[0mtrain_epoch\u001b[0m\u001b[0;34m(\u001b[0m\u001b[0mmodel\u001b[0m\u001b[0;34m,\u001b[0m\u001b[0mdevice\u001b[0m\u001b[0;34m,\u001b[0m \u001b[0mtrain_loader\u001b[0m\u001b[0;34m,\u001b[0m\u001b[0mloss_fn\u001b[0m\u001b[0;34m,\u001b[0m \u001b[0moptim\u001b[0m\u001b[0;34m,\u001b[0m \u001b[0mepoch\u001b[0m\u001b[0;34m)\u001b[0m\u001b[0;34m\u001b[0m\u001b[0;34m\u001b[0m\u001b[0m\n\u001b[0;32m----> 5\u001b[0;31m    \u001b[0mval_loss_acc\u001b[0m \u001b[0;34m=\u001b[0m \u001b[0mtest_epoch\u001b[0m\u001b[0;34m(\u001b[0m\u001b[0mmodel\u001b[0m\u001b[0;34m,\u001b[0m \u001b[0mdevice\u001b[0m\u001b[0;34m,\u001b[0m\u001b[0mvalid_loader\u001b[0m\u001b[0;34m,\u001b[0m\u001b[0mloss_fn\u001b[0m\u001b[0;34m)\u001b[0m\u001b[0;34m\u001b[0m\u001b[0;34m\u001b[0m\u001b[0m\n\u001b[0m\u001b[1;32m      6\u001b[0m    \u001b[0mval_loss\u001b[0m \u001b[0;34m=\u001b[0m \u001b[0mval_loss_acc\u001b[0m\u001b[0;34m[\u001b[0m\u001b[0;36m0\u001b[0m\u001b[0;34m]\u001b[0m\u001b[0;34m\u001b[0m\u001b[0;34m\u001b[0m\u001b[0m\n\u001b[1;32m      7\u001b[0m    \u001b[0mval_acc\u001b[0m \u001b[0;34m=\u001b[0m \u001b[0mval_loss_acc\u001b[0m\u001b[0;34m[\u001b[0m\u001b[0;36m1\u001b[0m\u001b[0;34m]\u001b[0m\u001b[0;34m\u001b[0m\u001b[0;34m\u001b[0m\u001b[0m\n",
            "\u001b[0;32m<ipython-input-22-09f1f92ad629>\u001b[0m in \u001b[0;36mtest_epoch\u001b[0;34m(autoencoder, device, dataloader, loss_fn)\u001b[0m\n\u001b[1;32m     18\u001b[0m             \u001b[0mlabels\u001b[0m \u001b[0;34m=\u001b[0m \u001b[0mlabels\u001b[0m\u001b[0;34m.\u001b[0m\u001b[0mto\u001b[0m\u001b[0;34m(\u001b[0m\u001b[0mdevice\u001b[0m\u001b[0;34m)\u001b[0m\u001b[0;34m\u001b[0m\u001b[0;34m\u001b[0m\u001b[0m\n\u001b[1;32m     19\u001b[0m             \u001b[0;31m# Decode data\u001b[0m\u001b[0;34m\u001b[0m\u001b[0;34m\u001b[0m\u001b[0m\n\u001b[0;32m---> 20\u001b[0;31m             \u001b[0moutputs\u001b[0m\u001b[0;34m,\u001b[0m \u001b[0mlala\u001b[0m \u001b[0;34m=\u001b[0m \u001b[0mmodel\u001b[0m\u001b[0;34m(\u001b[0m\u001b[0mimage_batch\u001b[0m\u001b[0;34m)\u001b[0m\u001b[0;34m\u001b[0m\u001b[0;34m\u001b[0m\u001b[0m\n\u001b[0m\u001b[1;32m     21\u001b[0m             \u001b[0;31m# Append the network output and the original image to the lists\u001b[0m\u001b[0;34m\u001b[0m\u001b[0;34m\u001b[0m\u001b[0m\n\u001b[1;32m     22\u001b[0m             \u001b[0mloss\u001b[0m \u001b[0;34m=\u001b[0m \u001b[0mloss_fn\u001b[0m\u001b[0;34m(\u001b[0m\u001b[0moutputs\u001b[0m\u001b[0;34m,\u001b[0m \u001b[0mlabels\u001b[0m\u001b[0;34m)\u001b[0m\u001b[0;34m\u001b[0m\u001b[0;34m\u001b[0m\u001b[0m\n",
            "\u001b[0;31mValueError\u001b[0m: too many values to unpack (expected 2)"
          ]
        }
      ],
      "source": [
        "num_epochs = 100\n",
        "counter = 0\n",
        "for epoch in range(num_epochs):\n",
        "   train_loss =train_epoch(model,device, train_loader,loss_fn, optim, epoch)\n",
        "   val_loss_acc = test_epoch(model, device,valid_loader,loss_fn)\n",
        "   val_loss = val_loss_acc[0]\n",
        "   val_acc = val_loss_acc[1]\n",
        "   \n",
        "   torch.save({\n",
        "            'model_state_dict': model.state_dict(),\n",
        "            'optimizer_state_dict': optim.state_dict(),\n",
        "            'loss': val_loss,\n",
        "            'counter': counter,\n",
        "            'lr' : lr\n",
        "            }, \"/content/drive/MyDrive/model.pt\")\n",
        "   #if epoch > 0:\n",
        "    \n",
        "     #checkpoint = torch.load(\"/content/drive/MyDrive/model.pt\")\n",
        "     #val_loss_prev = checkpoint['loss']\n",
        "     #if val_loss_prev - val_loss <= 0:\n",
        "       #counter += 1\n",
        "       #if counter > 7:\n",
        "        # break\n",
        "   print('\\n EPOCH {}/{} \\t train loss {} \\t val loss {} \\t val acc {}'.format(epoch + 1, num_epochs,train_loss,val_loss, val_acc))"
      ]
    },
    {
      "cell_type": "code",
      "source": [
        "import matplotlib.pyplot as plt"
      ],
      "metadata": {
        "id": "8zUtDOKHgEID"
      },
      "execution_count": null,
      "outputs": []
    },
    {
      "cell_type": "code",
      "source": [
        "plt.figure(figsize=(10,8))\n",
        "plt.plot(val_losses, label='Loss')\n",
        "plt.xlabel('Epoch')\n",
        "plt.ylabel('Validation loss')\n",
        "#plt.grid()\n",
        "plt.legend()\n",
        "#plt.title('loss')\n",
        "plt.show()"
      ],
      "metadata": {
        "colab": {
          "base_uri": "https://localhost:8080/",
          "height": 696
        },
        "id": "3q9de8wFgAwD",
        "outputId": "e8fc9fdf-d72b-4004-9138-20402d64e7c1"
      },
      "execution_count": null,
      "outputs": [
        {
          "output_type": "display_data",
          "data": {
            "text/plain": [
              "<Figure size 1000x800 with 1 Axes>"
            ],
            "image/png": "[encoded data removed]"
          },
          "metadata": {}
        }
      ]
    },
    {
      "cell_type": "code",
      "execution_count": null,
      "metadata": {
        "id": "85biq2Fbpqew"
      },
      "outputs": [],
      "source": [
        "predicted_labels = []\n",
        "real_labels = []\n",
        "model.eval()\n",
        "with torch.no_grad():\n",
        "  for image_batch, labels in valid_loader:\n",
        "    image_batch = image_batch.to(device)\n",
        "    labels = labels.to(device)\n",
        "    y_predicted = model(image_batch)\n",
        "    predicted_labels.append(y_predicted.argmax(dim = 1))\n",
        "    real_labels.append(labels)\n",
        "predicted_labels = torch.cat(predicted_labels)\n",
        "real_labels = torch.cat(real_labels)\n",
        "val_acc = (predicted_labels == real_labels).type(torch.FloatTensor).mean()"
      ]
    },
    {
      "cell_type": "code",
      "source": [
        "val_acc"
      ],
      "metadata": {
        "id": "FQyQtPdCgL43",
        "outputId": "1aeeaeaa-0ecf-406d-f43a-840b5dc1b9b1",
        "colab": {
          "base_uri": "https://localhost:8080/"
        }
      },
      "execution_count": null,
      "outputs": [
        {
          "output_type": "execute_result",
          "data": {
            "text/plain": [
              "tensor(0.1940)"
            ]
          },
          "metadata": {},
          "execution_count": 27
        }
      ]
    }
  ],
  "metadata": {
    "colab": {
      "provenance": [],
      "include_colab_link": true
    },
    "gpuClass": "standard",
    "kernelspec": {
      "display_name": "Python 3",
      "name": "python3"
    },
    "language_info": {
      "name": "python"
    }
  },
  "nbformat": 4,
  "nbformat_minor": 0
}